{
 "cells": [
  {
   "cell_type": "markdown",
   "metadata": {},
   "source": [
    "Task 2"
   ]
  },
  {
   "cell_type": "code",
   "execution_count": 1,
   "metadata": {},
   "outputs": [
    {
     "name": "stdout",
     "output_type": "stream",
     "text": [
      "16\n",
      "[36, 49, 64, 81]\n",
      "[100, 81, 64, 49, 36, 25, 16, 9, 4, 1]\n"
     ]
    }
   ],
   "source": [
    "Data = [1, 4, 9, 16, 25, 36, 49,  64, 81, 100]\n",
    "\n",
    "a = Data[3]\n",
    "print(a)\n",
    "\n",
    "b = Data[5:9]\n",
    "print(b)\n",
    "\n",
    "c = Data[::-1]\n",
    "print(c)"
   ]
  },
  {
   "cell_type": "markdown",
   "metadata": {},
   "source": [
    "Task 3"
   ]
  },
  {
   "cell_type": "code",
   "execution_count": 3,
   "metadata": {},
   "outputs": [
    {
     "name": "stdout",
     "output_type": "stream",
     "text": [
      "['Nanggroe Aceh Darussalam', 'Sumatera Selatan', 'Kalimantan Barat', 'Jawa Timur', 'Sulawesi Selatan', 'Maluku']\n",
      "{'Nanggroe Aceh Darussalam': 'Aceh', 'Sumatera Selatan': 'Palembang', 'Kalimantan Barat': 'Pontianak', 'Jawa Timur': 'Surabaya', 'Sulawesi Selatan': 'Makassar', 'Maluku': 'Ambon'}\n"
     ]
    }
   ],
   "source": [
    "provinsi = {'Nanggroe Aceh Darussalam': 'Aceh','Sumatera Selatan': 'Palembang','Kalimantan Barat': 'Pontianak','Jawa Timur': 'Madiun','Sulawesi Selatan': 'Makassar','Maluku': 'Ambon'}\n",
    "\n",
    "keys = list(provinsi.keys())\n",
    "print(keys)\n",
    "\n",
    "provinsi['Jawa Timur'] = 'Surabaya'\n",
    "\n",
    "print(provinsi)"
   ]
  },
  {
   "cell_type": "markdown",
   "metadata": {},
   "source": [
    "Task 3"
   ]
  },
  {
   "cell_type": "code",
   "execution_count": 6,
   "metadata": {},
   "outputs": [
    {
     "name": "stdout",
     "output_type": "stream",
     "text": [
      "12\n"
     ]
    }
   ],
   "source": [
    "customer_id = [\n",
    "    'B818', 'A461', 'A092', 'A082', 'B341', 'A005', 'A092', 'A461', 'B219', \n",
    "    'B904', 'A901', 'A083', 'B904', 'A092', 'B341', 'B821', 'B341', 'B821', \n",
    "    'B904', 'B818', 'A901', 'A083', 'B818', 'A082', 'B219', 'B219', 'A083', \n",
    "    'A901', 'A082', 'B341', 'B341', 'A083', 'A082', 'B219', 'B439', 'A461', \n",
    "    'A005', 'A901', 'B341', 'A082', 'A083', 'A461', 'A083', 'A901', 'A461', \n",
    "    'A083', 'A082', 'A083', 'B341', 'A901', 'A082', 'A461', 'B219', 'A083', \n",
    "    'B818', 'B821', 'A092', 'B341', 'A461', 'A092', 'A083', 'B821', 'A092'\n",
    "]\n",
    "\n",
    "#How many unique customer_id from above list?\n",
    "\n",
    "uniqueCustomerId = len(set(customer_id))\n",
    "print(uniqueCustomerId)"
   ]
  }
 ],
 "metadata": {
  "kernelspec": {
   "display_name": "Python 3",
   "language": "python",
   "name": "python3"
  },
  "language_info": {
   "codemirror_mode": {
    "name": "ipython",
    "version": 3
   },
   "file_extension": ".py",
   "mimetype": "text/x-python",
   "name": "python",
   "nbconvert_exporter": "python",
   "pygments_lexer": "ipython3",
   "version": "3.11.6"
  }
 },
 "nbformat": 4,
 "nbformat_minor": 2
}
